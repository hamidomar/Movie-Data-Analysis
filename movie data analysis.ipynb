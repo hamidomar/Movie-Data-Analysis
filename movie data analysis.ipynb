{
 "cells": [
  {
   "cell_type": "markdown",
   "metadata": {},
   "source": [
    "# Data Analysis of the TMDB Dataset"
   ]
  },
  {
   "cell_type": "markdown",
   "metadata": {},
   "source": [
    "![title](https://m.media-amazon.com/images/G/01/imdb/images/social/imdb_logo._CB41090\\1634_.png)"
   ]
  },
  {
   "cell_type": "code",
   "execution_count": 2,
   "metadata": {},
   "outputs": [
    {
     "data": {
      "text/html": [
       "<style>.container { width:90% !important; }</style>"
      ],
      "text/plain": [
       "<IPython.core.display.HTML object>"
      ]
     },
     "metadata": {},
     "output_type": "display_data"
    }
   ],
   "source": [
    "#Altering display on Jupyter Notebook for convenience\n",
    "from IPython.core.display import display, HTML\n",
    "display(HTML(\"<style>.container { width:90% !important; }</style>\"))"
   ]
  },
  {
   "cell_type": "markdown",
   "metadata": {},
   "source": [
    "## First we need to import all files that we will be needing to execute our code\n",
    "We will import the csv file and store it in a variable. We'll also create a second variable in order to store the original data before we make changes to 'df_movies' dataset.\n",
    "We import:\n",
    "- pandas: to access and manipulate df\n",
    "- matplotlib: to visualise the data\n",
    "- numpy: to perform mathematical operations\n",
    "- scipy: to find z-score in order to remove outliers from our data"
   ]
  },
  {
   "cell_type": "code",
   "execution_count": 3,
   "metadata": {},
   "outputs": [],
   "source": [
    "#Importing important libraries\n",
    "import pandas as pd\n",
    "import matplotlib.pyplot as plt\n",
    "import numpy as np\n",
    "from pandas.plotting import scatter_matrix\n",
    "from scipy import stats\n",
    "%matplotlib inline "
   ]
  },
  {
   "cell_type": "code",
   "execution_count": 4,
   "metadata": {},
   "outputs": [],
   "source": [
    "#Reading the CSV file locally, creating an orignal df, before making changes.\n",
    "df_movies = pd.read_csv(\"tmdb-movies.csv\") \n",
    "df_tmdb = df_movies"
   ]
  },
  {
   "cell_type": "markdown",
   "metadata": {},
   "source": [
    "## Data Preprocessing\n",
    "\n",
    "In data for preprocessing, we have to ensure that our dataset is perfect for analysis. We see that datetime has incorrect format, and it needs be rectified. We also have a lot of columns that we will not be needing during the analysis phase. Those should be dropped as well. \n",
    "\n",
    "Some of the rows have values which have no use to us, such as rows that are duplicate, hence have redundant data, rows with value zeroes in certain columns, (which act as noise), and rows with na values. Since all of the questions we will be answering are the ones that only require us to find general trend, we do not need to carry these rows, and can drop them to make our jobs easier.\n",
    "\n",
    "On further analysis, some other changes have also been made to the dataframe to make our work easier, and these shall be discussed further into the report!"
   ]
  },
  {
   "cell_type": "code",
   "execution_count": 5,
   "metadata": {},
   "outputs": [
    {
     "name": "stdout",
     "output_type": "stream",
     "text": [
      "0 id\n",
      "1 imdb_id\n",
      "2 popularity\n",
      "3 budget\n",
      "4 revenue\n",
      "5 original_title\n",
      "6 cast\n",
      "7 homepage\n",
      "8 director\n",
      "9 tagline\n",
      "10 keywords\n",
      "11 overview\n",
      "12 runtime\n",
      "13 genres\n",
      "14 production_companies\n",
      "15 release_date\n",
      "16 vote_count\n",
      "17 vote_average\n",
      "18 release_year\n",
      "19 budget_adj\n",
      "20 revenue_adj\n"
     ]
    }
   ],
   "source": [
    "#Glancing at all columns\n",
    "for i,v in enumerate(df_movies.columns):\n",
    "    print(i,v)"
   ]
  },
  {
   "cell_type": "code",
   "execution_count": 6,
   "metadata": {},
   "outputs": [],
   "source": [
    "#Dropping unnecessary columns\n",
    "col_drop = ['id', 'imdb_id', 'budget', 'revenue', 'homepage', 'keywords', 'overview', 'production_companies', 'vote_count', 'vote_average','tagline','cast','director']\n",
    "df_movies.drop(col_drop,inplace=True,axis=1)"
   ]
  },
  {
   "cell_type": "markdown",
   "metadata": {},
   "source": [
    "We have only kept the columns that will be required to answer the questions we will pose. We also remove budget and revenue since we'll only be needing the values adjusted for inflation."
   ]
  },
  {
   "cell_type": "code",
   "execution_count": 7,
   "metadata": {},
   "outputs": [
    {
     "name": "stdout",
     "output_type": "stream",
     "text": [
      "0 popularity\n",
      "1 original_title\n",
      "2 runtime\n",
      "3 genres\n",
      "4 release_date\n",
      "5 release_year\n",
      "6 budget_adj\n",
      "7 revenue_adj\n"
     ]
    }
   ],
   "source": [
    "#Verifying changes\n",
    "for i,v in enumerate(df_movies.columns):\n",
    "    print(i,v)"
   ]
  },
  {
   "cell_type": "code",
   "execution_count": 8,
   "metadata": {},
   "outputs": [
    {
     "data": {
      "text/html": [
       "<div>\n",
       "<style scoped>\n",
       "    .dataframe tbody tr th:only-of-type {\n",
       "        vertical-align: middle;\n",
       "    }\n",
       "\n",
       "    .dataframe tbody tr th {\n",
       "        vertical-align: top;\n",
       "    }\n",
       "\n",
       "    .dataframe thead th {\n",
       "        text-align: right;\n",
       "    }\n",
       "</style>\n",
       "<table border=\"1\" class=\"dataframe\">\n",
       "  <thead>\n",
       "    <tr style=\"text-align: right;\">\n",
       "      <th></th>\n",
       "      <th>popularity</th>\n",
       "      <th>original_title</th>\n",
       "      <th>runtime</th>\n",
       "      <th>genres</th>\n",
       "      <th>release_date</th>\n",
       "      <th>release_year</th>\n",
       "      <th>budget_adj</th>\n",
       "      <th>revenue_adj</th>\n",
       "    </tr>\n",
       "  </thead>\n",
       "  <tbody>\n",
       "    <tr>\n",
       "      <th>0</th>\n",
       "      <td>32.985763</td>\n",
       "      <td>Jurassic World</td>\n",
       "      <td>124</td>\n",
       "      <td>Action|Adventure|Science Fiction|Thriller</td>\n",
       "      <td>6/9/15</td>\n",
       "      <td>2015</td>\n",
       "      <td>1.379999e+08</td>\n",
       "      <td>1.392446e+09</td>\n",
       "    </tr>\n",
       "    <tr>\n",
       "      <th>1</th>\n",
       "      <td>28.419936</td>\n",
       "      <td>Mad Max: Fury Road</td>\n",
       "      <td>120</td>\n",
       "      <td>Action|Adventure|Science Fiction|Thriller</td>\n",
       "      <td>5/13/15</td>\n",
       "      <td>2015</td>\n",
       "      <td>1.379999e+08</td>\n",
       "      <td>3.481613e+08</td>\n",
       "    </tr>\n",
       "    <tr>\n",
       "      <th>2</th>\n",
       "      <td>13.112507</td>\n",
       "      <td>Insurgent</td>\n",
       "      <td>119</td>\n",
       "      <td>Adventure|Science Fiction|Thriller</td>\n",
       "      <td>3/18/15</td>\n",
       "      <td>2015</td>\n",
       "      <td>1.012000e+08</td>\n",
       "      <td>2.716190e+08</td>\n",
       "    </tr>\n",
       "    <tr>\n",
       "      <th>3</th>\n",
       "      <td>11.173104</td>\n",
       "      <td>Star Wars: The Force Awakens</td>\n",
       "      <td>136</td>\n",
       "      <td>Action|Adventure|Science Fiction|Fantasy</td>\n",
       "      <td>12/15/15</td>\n",
       "      <td>2015</td>\n",
       "      <td>1.839999e+08</td>\n",
       "      <td>1.902723e+09</td>\n",
       "    </tr>\n",
       "    <tr>\n",
       "      <th>4</th>\n",
       "      <td>9.335014</td>\n",
       "      <td>Furious 7</td>\n",
       "      <td>137</td>\n",
       "      <td>Action|Crime|Thriller</td>\n",
       "      <td>4/1/15</td>\n",
       "      <td>2015</td>\n",
       "      <td>1.747999e+08</td>\n",
       "      <td>1.385749e+09</td>\n",
       "    </tr>\n",
       "  </tbody>\n",
       "</table>\n",
       "</div>"
      ],
      "text/plain": [
       "   popularity                original_title  runtime  \\\n",
       "0   32.985763                Jurassic World      124   \n",
       "1   28.419936            Mad Max: Fury Road      120   \n",
       "2   13.112507                     Insurgent      119   \n",
       "3   11.173104  Star Wars: The Force Awakens      136   \n",
       "4    9.335014                     Furious 7      137   \n",
       "\n",
       "                                      genres release_date  release_year  \\\n",
       "0  Action|Adventure|Science Fiction|Thriller       6/9/15          2015   \n",
       "1  Action|Adventure|Science Fiction|Thriller      5/13/15          2015   \n",
       "2         Adventure|Science Fiction|Thriller      3/18/15          2015   \n",
       "3   Action|Adventure|Science Fiction|Fantasy     12/15/15          2015   \n",
       "4                      Action|Crime|Thriller       4/1/15          2015   \n",
       "\n",
       "     budget_adj   revenue_adj  \n",
       "0  1.379999e+08  1.392446e+09  \n",
       "1  1.379999e+08  3.481613e+08  \n",
       "2  1.012000e+08  2.716190e+08  \n",
       "3  1.839999e+08  1.902723e+09  \n",
       "4  1.747999e+08  1.385749e+09  "
      ]
     },
     "execution_count": 8,
     "metadata": {},
     "output_type": "execute_result"
    }
   ],
   "source": [
    "df_movies.head()"
   ]
  },
  {
   "cell_type": "code",
   "execution_count": 9,
   "metadata": {},
   "outputs": [
    {
     "name": "stdout",
     "output_type": "stream",
     "text": [
      "<class 'pandas.core.frame.DataFrame'>\n",
      "RangeIndex: 10866 entries, 0 to 10865\n",
      "Data columns (total 8 columns):\n",
      "popularity        10866 non-null float64\n",
      "original_title    10866 non-null object\n",
      "runtime           10866 non-null int64\n",
      "genres            10843 non-null object\n",
      "release_date      10866 non-null object\n",
      "release_year      10866 non-null int64\n",
      "budget_adj        10866 non-null float64\n",
      "revenue_adj       10866 non-null float64\n",
      "dtypes: float64(3), int64(2), object(3)\n",
      "memory usage: 679.2+ KB\n"
     ]
    }
   ],
   "source": [
    "df_movies.info()"
   ]
  },
  {
   "cell_type": "code",
   "execution_count": 10,
   "metadata": {},
   "outputs": [],
   "source": [
    "#Changing datatype of release data from string to datetime\n",
    "df_movies.release_date = pd.to_datetime(df_movies['release_date'])"
   ]
  },
  {
   "cell_type": "code",
   "execution_count": 11,
   "metadata": {},
   "outputs": [
    {
     "data": {
      "text/html": [
       "<div>\n",
       "<style scoped>\n",
       "    .dataframe tbody tr th:only-of-type {\n",
       "        vertical-align: middle;\n",
       "    }\n",
       "\n",
       "    .dataframe tbody tr th {\n",
       "        vertical-align: top;\n",
       "    }\n",
       "\n",
       "    .dataframe thead th {\n",
       "        text-align: right;\n",
       "    }\n",
       "</style>\n",
       "<table border=\"1\" class=\"dataframe\">\n",
       "  <thead>\n",
       "    <tr style=\"text-align: right;\">\n",
       "      <th></th>\n",
       "      <th>popularity</th>\n",
       "      <th>original_title</th>\n",
       "      <th>runtime</th>\n",
       "      <th>genres</th>\n",
       "      <th>release_date</th>\n",
       "      <th>release_year</th>\n",
       "      <th>budget_adj</th>\n",
       "      <th>revenue_adj</th>\n",
       "    </tr>\n",
       "  </thead>\n",
       "  <tbody>\n",
       "    <tr>\n",
       "      <th>2090</th>\n",
       "      <td>0.59643</td>\n",
       "      <td>TEKKEN</td>\n",
       "      <td>92</td>\n",
       "      <td>Crime|Drama|Action|Thriller|Science Fiction</td>\n",
       "      <td>2010-03-20</td>\n",
       "      <td>2010</td>\n",
       "      <td>30000000.0</td>\n",
       "      <td>967000.0</td>\n",
       "    </tr>\n",
       "  </tbody>\n",
       "</table>\n",
       "</div>"
      ],
      "text/plain": [
       "      popularity original_title  runtime  \\\n",
       "2090     0.59643         TEKKEN       92   \n",
       "\n",
       "                                           genres release_date  release_year  \\\n",
       "2090  Crime|Drama|Action|Thriller|Science Fiction   2010-03-20          2010   \n",
       "\n",
       "      budget_adj  revenue_adj  \n",
       "2090  30000000.0     967000.0  "
      ]
     },
     "execution_count": 11,
     "metadata": {},
     "output_type": "execute_result"
    }
   ],
   "source": [
    "#Finding the duplicated rows in the dataframe\n",
    "df_movies[df_movies.duplicated()]"
   ]
  },
  {
   "cell_type": "code",
   "execution_count": 12,
   "metadata": {},
   "outputs": [
    {
     "data": {
      "text/plain": [
       "True"
      ]
     },
     "execution_count": 12,
     "metadata": {},
     "output_type": "execute_result"
    }
   ],
   "source": [
    "#Checking for dupliactes in df\n",
    "df_movies.isnull().values.any()"
   ]
  },
  {
   "cell_type": "code",
   "execution_count": 13,
   "metadata": {},
   "outputs": [],
   "source": [
    "#Removing all 0s in budget_adj and revenue_adj\n",
    "df_movies.replace(0,np.NAN,inplace=True)"
   ]
  },
  {
   "cell_type": "code",
   "execution_count": 14,
   "metadata": {},
   "outputs": [],
   "source": [
    "#Removing all na rows\n",
    "df_movies.dropna(inplace=True)"
   ]
  },
  {
   "cell_type": "code",
   "execution_count": 15,
   "metadata": {},
   "outputs": [
    {
     "data": {
      "text/plain": [
       "False"
      ]
     },
     "execution_count": 15,
     "metadata": {},
     "output_type": "execute_result"
    }
   ],
   "source": [
    "#Checking for all null values\n",
    "df_movies.isnull().values.any()"
   ]
  },
  {
   "cell_type": "code",
   "execution_count": 16,
   "metadata": {},
   "outputs": [
    {
     "data": {
      "text/html": [
       "<div>\n",
       "<style scoped>\n",
       "    .dataframe tbody tr th:only-of-type {\n",
       "        vertical-align: middle;\n",
       "    }\n",
       "\n",
       "    .dataframe tbody tr th {\n",
       "        vertical-align: top;\n",
       "    }\n",
       "\n",
       "    .dataframe thead th {\n",
       "        text-align: right;\n",
       "    }\n",
       "</style>\n",
       "<table border=\"1\" class=\"dataframe\">\n",
       "  <thead>\n",
       "    <tr style=\"text-align: right;\">\n",
       "      <th></th>\n",
       "      <th>popularity</th>\n",
       "      <th>original_title</th>\n",
       "      <th>runtime</th>\n",
       "      <th>genres</th>\n",
       "      <th>release_date</th>\n",
       "      <th>release_year</th>\n",
       "      <th>budget_adj</th>\n",
       "      <th>revenue_adj</th>\n",
       "    </tr>\n",
       "  </thead>\n",
       "  <tbody>\n",
       "  </tbody>\n",
       "</table>\n",
       "</div>"
      ],
      "text/plain": [
       "Empty DataFrame\n",
       "Columns: [popularity, original_title, runtime, genres, release_date, release_year, budget_adj, revenue_adj]\n",
       "Index: []"
      ]
     },
     "execution_count": 16,
     "metadata": {},
     "output_type": "execute_result"
    }
   ],
   "source": [
    "#Dropping all duplicates, should return no rows\n",
    "df_movies.drop_duplicates(inplace=True)\n",
    "df_movies[df_movies.duplicated()]"
   ]
  },
  {
   "cell_type": "code",
   "execution_count": 17,
   "metadata": {},
   "outputs": [
    {
     "data": {
      "text/plain": [
       "<matplotlib.axes._subplots.AxesSubplot at 0x17139090550>"
      ]
     },
     "execution_count": 17,
     "metadata": {},
     "output_type": "execute_result"
    },
    {
     "data": {
      "image/png": "[encoded data removed]",
      "text/plain": [
       "<Figure size 432x288 with 1 Axes>"
      ]
     },
     "metadata": {
      "needs_background": "light"
     },
     "output_type": "display_data"
    }
   ],
   "source": [
    "#Visualising distribution of budget column\n",
    "df_movies['budget_adj'].plot(kind='box')"
   ]
  },
  {
   "cell_type": "code",
   "execution_count": 18,
   "metadata": {},
   "outputs": [
    {
     "data": {
      "text/plain": [
       "<matplotlib.axes._subplots.AxesSubplot at 0x17138dbaef0>"
      ]
     },
     "execution_count": 18,
     "metadata": {},
     "output_type": "execute_result"
    },
    {
     "data": {
      "image/png": "[encoded data removed]",
      "text/plain": [
       "<Figure size 432x288 with 1 Axes>"
      ]
     },
     "metadata": {
      "needs_background": "light"
     },
     "output_type": "display_data"
    }
   ],
   "source": [
    "#Visualising distribution of popularity column\n",
    "df_movies['popularity'].plot(kind='box')"
   ]
  },
  {
   "cell_type": "markdown",
   "metadata": {},
   "source": [
    "By visualising the the two distributions, we are able to conclude that this dataset has a lot of outliers and hence it is prudent to remove them to improve our Analysis further down the pipeline"
   ]
  },
  {
   "cell_type": "code",
   "execution_count": 19,
   "metadata": {},
   "outputs": [
    {
     "data": {
      "text/plain": [
       "(3854, 8)"
      ]
     },
     "execution_count": 19,
     "metadata": {},
     "output_type": "execute_result"
    }
   ],
   "source": [
    "df_movies.shape"
   ]
  },
  {
   "cell_type": "code",
   "execution_count": 20,
   "metadata": {},
   "outputs": [],
   "source": [
    "z_scores = stats.zscore(df_movies[['popularity','runtime','budget_adj','revenue_adj']])\n",
    "abs_z_scores = np.abs(z_scores)\n",
    "filtered_entries = (abs_z_scores < 3).all(axis=1)\n",
    "df_new = df_movies[filtered_entries]"
   ]
  },
  {
   "cell_type": "code",
   "execution_count": 21,
   "metadata": {},
   "outputs": [
    {
     "data": {
      "text/plain": [
       "(3638, 8)"
      ]
     },
     "execution_count": 21,
     "metadata": {},
     "output_type": "execute_result"
    }
   ],
   "source": [
    "df_new.shape"
   ]
  },
  {
   "cell_type": "code",
   "execution_count": 22,
   "metadata": {},
   "outputs": [
    {
     "name": "stderr",
     "output_type": "stream",
     "text": [
      "C:\\ProgramData\\Anaconda3\\lib\\site-packages\\ipykernel_launcher.py:2: SettingWithCopyWarning: \n",
      "A value is trying to be set on a copy of a slice from a DataFrame.\n",
      "Try using .loc[row_indexer,col_indexer] = value instead\n",
      "\n",
      "See the caveats in the documentation: http://pandas.pydata.org/pandas-docs/stable/indexing.html#indexing-view-versus-copy\n",
      "  \n"
     ]
    }
   ],
   "source": [
    "#Creating a new column called profit. Profit column is created by suctracting revenue by budget.\n",
    "df_new['profit'] = pd.DataFrame(df_movies.revenue_adj - df_movies.budget_adj) "
   ]
  },
  {
   "cell_type": "markdown",
   "metadata": {},
   "source": [
    "Now we can finally view the result we have after performing all the preproccessing of the data performed till now."
   ]
  },
  {
   "cell_type": "code",
   "execution_count": 23,
   "metadata": {},
   "outputs": [
    {
     "data": {
      "text/html": [
       "<div>\n",
       "<style scoped>\n",
       "    .dataframe tbody tr th:only-of-type {\n",
       "        vertical-align: middle;\n",
       "    }\n",
       "\n",
       "    .dataframe tbody tr th {\n",
       "        vertical-align: top;\n",
       "    }\n",
       "\n",
       "    .dataframe thead th {\n",
       "        text-align: right;\n",
       "    }\n",
       "</style>\n",
       "<table border=\"1\" class=\"dataframe\">\n",
       "  <thead>\n",
       "    <tr style=\"text-align: right;\">\n",
       "      <th></th>\n",
       "      <th>popularity</th>\n",
       "      <th>runtime</th>\n",
       "      <th>release_year</th>\n",
       "      <th>budget_adj</th>\n",
       "      <th>revenue_adj</th>\n",
       "      <th>profit</th>\n",
       "    </tr>\n",
       "  </thead>\n",
       "  <tbody>\n",
       "    <tr>\n",
       "      <th>count</th>\n",
       "      <td>3638.000000</td>\n",
       "      <td>3638.000000</td>\n",
       "      <td>3638.000000</td>\n",
       "      <td>3.638000e+03</td>\n",
       "      <td>3.638000e+03</td>\n",
       "      <td>3.638000e+03</td>\n",
       "    </tr>\n",
       "    <tr>\n",
       "      <th>mean</th>\n",
       "      <td>1.013486</td>\n",
       "      <td>107.334250</td>\n",
       "      <td>2001.309511</td>\n",
       "      <td>3.945078e+07</td>\n",
       "      <td>1.080945e+08</td>\n",
       "      <td>6.864370e+07</td>\n",
       "    </tr>\n",
       "    <tr>\n",
       "      <th>std</th>\n",
       "      <td>0.841891</td>\n",
       "      <td>16.464738</td>\n",
       "      <td>11.030209</td>\n",
       "      <td>3.663366e+07</td>\n",
       "      <td>1.384549e+08</td>\n",
       "      <td>1.214216e+08</td>\n",
       "    </tr>\n",
       "    <tr>\n",
       "      <th>min</th>\n",
       "      <td>0.001117</td>\n",
       "      <td>62.000000</td>\n",
       "      <td>1960.000000</td>\n",
       "      <td>9.693980e-01</td>\n",
       "      <td>2.370705e+00</td>\n",
       "      <td>-1.375868e+08</td>\n",
       "    </tr>\n",
       "    <tr>\n",
       "      <th>25%</th>\n",
       "      <td>0.449147</td>\n",
       "      <td>95.000000</td>\n",
       "      <td>1995.250000</td>\n",
       "      <td>1.253202e+07</td>\n",
       "      <td>1.701959e+07</td>\n",
       "      <td>-2.350754e+06</td>\n",
       "    </tr>\n",
       "    <tr>\n",
       "      <th>50%</th>\n",
       "      <td>0.774555</td>\n",
       "      <td>105.000000</td>\n",
       "      <td>2004.000000</td>\n",
       "      <td>2.804050e+07</td>\n",
       "      <td>5.633007e+07</td>\n",
       "      <td>2.357174e+07</td>\n",
       "    </tr>\n",
       "    <tr>\n",
       "      <th>75%</th>\n",
       "      <td>1.285252</td>\n",
       "      <td>117.000000</td>\n",
       "      <td>2010.000000</td>\n",
       "      <td>5.541697e+07</td>\n",
       "      <td>1.421590e+08</td>\n",
       "      <td>9.192575e+07</td>\n",
       "    </tr>\n",
       "    <tr>\n",
       "      <th>max</th>\n",
       "      <td>5.573184</td>\n",
       "      <td>168.000000</td>\n",
       "      <td>2015.000000</td>\n",
       "      <td>1.778701e+08</td>\n",
       "      <td>7.839013e+08</td>\n",
       "      <td>7.568899e+08</td>\n",
       "    </tr>\n",
       "  </tbody>\n",
       "</table>\n",
       "</div>"
      ],
      "text/plain": [
       "        popularity      runtime  release_year    budget_adj   revenue_adj  \\\n",
       "count  3638.000000  3638.000000   3638.000000  3.638000e+03  3.638000e+03   \n",
       "mean      1.013486   107.334250   2001.309511  3.945078e+07  1.080945e+08   \n",
       "std       0.841891    16.464738     11.030209  3.663366e+07  1.384549e+08   \n",
       "min       0.001117    62.000000   1960.000000  9.693980e-01  2.370705e+00   \n",
       "25%       0.449147    95.000000   1995.250000  1.253202e+07  1.701959e+07   \n",
       "50%       0.774555   105.000000   2004.000000  2.804050e+07  5.633007e+07   \n",
       "75%       1.285252   117.000000   2010.000000  5.541697e+07  1.421590e+08   \n",
       "max       5.573184   168.000000   2015.000000  1.778701e+08  7.839013e+08   \n",
       "\n",
       "             profit  \n",
       "count  3.638000e+03  \n",
       "mean   6.864370e+07  \n",
       "std    1.214216e+08  \n",
       "min   -1.375868e+08  \n",
       "25%   -2.350754e+06  \n",
       "50%    2.357174e+07  \n",
       "75%    9.192575e+07  \n",
       "max    7.568899e+08  "
      ]
     },
     "execution_count": 23,
     "metadata": {},
     "output_type": "execute_result"
    }
   ],
   "source": [
    "df_new.describe()"
   ]
  },
  {
   "cell_type": "code",
   "execution_count": 24,
   "metadata": {},
   "outputs": [
    {
     "name": "stdout",
     "output_type": "stream",
     "text": [
      "<class 'pandas.core.frame.DataFrame'>\n",
      "Int64Index: 3638 entries, 17 to 10848\n",
      "Data columns (total 9 columns):\n",
      "popularity        3638 non-null float64\n",
      "original_title    3638 non-null object\n",
      "runtime           3638 non-null float64\n",
      "genres            3638 non-null object\n",
      "release_date      3638 non-null datetime64[ns]\n",
      "release_year      3638 non-null int64\n",
      "budget_adj        3638 non-null float64\n",
      "revenue_adj       3638 non-null float64\n",
      "profit            3638 non-null float64\n",
      "dtypes: datetime64[ns](1), float64(5), int64(1), object(2)\n",
      "memory usage: 284.2+ KB\n"
     ]
    }
   ],
   "source": [
    "df_new.info()"
   ]
  },
  {
   "cell_type": "markdown",
   "metadata": {},
   "source": [
    "Creating a function to assist in binning numeric variable and naming the bins. However, we only do this for one column.\n",
    "\n",
    "Later on this will help us in making coclusions about the data."
   ]
  },
  {
   "cell_type": "code",
   "execution_count": 25,
   "metadata": {},
   "outputs": [],
   "source": [
    "def discretization(col_name,bins,labels):\n",
    "    df_new[col_name + '_disc'] = pd.cut(df_new[col_name],bins=bins,labels=labels)"
   ]
  },
  {
   "cell_type": "code",
   "execution_count": 26,
   "metadata": {},
   "outputs": [
    {
     "name": "stderr",
     "output_type": "stream",
     "text": [
      "C:\\ProgramData\\Anaconda3\\lib\\site-packages\\ipykernel_launcher.py:2: SettingWithCopyWarning: \n",
      "A value is trying to be set on a copy of a slice from a DataFrame.\n",
      "Try using .loc[row_indexer,col_indexer] = value instead\n",
      "\n",
      "See the caveats in the documentation: http://pandas.pydata.org/pandas-docs/stable/indexing.html#indexing-view-versus-copy\n",
      "  \n"
     ]
    }
   ],
   "source": [
    "bins = [0.001117, 0.450901, 0.775201, 1.285155, 5.573184]\n",
    "labels = ['Poor', 'Below Average', 'Average','Popular']\n",
    "discretization(col_name=\"popularity\", bins=bins, labels=labels)"
   ]
  },
  {
   "cell_type": "code",
   "execution_count": 27,
   "metadata": {},
   "outputs": [
    {
     "data": {
      "text/html": [
       "<div>\n",
       "<style scoped>\n",
       "    .dataframe tbody tr th:only-of-type {\n",
       "        vertical-align: middle;\n",
       "    }\n",
       "\n",
       "    .dataframe tbody tr th {\n",
       "        vertical-align: top;\n",
       "    }\n",
       "\n",
       "    .dataframe thead th {\n",
       "        text-align: right;\n",
       "    }\n",
       "</style>\n",
       "<table border=\"1\" class=\"dataframe\">\n",
       "  <thead>\n",
       "    <tr style=\"text-align: right;\">\n",
       "      <th></th>\n",
       "      <th>popularity</th>\n",
       "      <th>runtime</th>\n",
       "      <th>release_year</th>\n",
       "      <th>budget_adj</th>\n",
       "      <th>revenue_adj</th>\n",
       "      <th>profit</th>\n",
       "    </tr>\n",
       "  </thead>\n",
       "  <tbody>\n",
       "    <tr>\n",
       "      <th>count</th>\n",
       "      <td>3638.000000</td>\n",
       "      <td>3638.000000</td>\n",
       "      <td>3638.000000</td>\n",
       "      <td>3.638000e+03</td>\n",
       "      <td>3.638000e+03</td>\n",
       "      <td>3.638000e+03</td>\n",
       "    </tr>\n",
       "    <tr>\n",
       "      <th>mean</th>\n",
       "      <td>1.013486</td>\n",
       "      <td>107.334250</td>\n",
       "      <td>2001.309511</td>\n",
       "      <td>3.945078e+07</td>\n",
       "      <td>1.080945e+08</td>\n",
       "      <td>6.864370e+07</td>\n",
       "    </tr>\n",
       "    <tr>\n",
       "      <th>std</th>\n",
       "      <td>0.841891</td>\n",
       "      <td>16.464738</td>\n",
       "      <td>11.030209</td>\n",
       "      <td>3.663366e+07</td>\n",
       "      <td>1.384549e+08</td>\n",
       "      <td>1.214216e+08</td>\n",
       "    </tr>\n",
       "    <tr>\n",
       "      <th>min</th>\n",
       "      <td>0.001117</td>\n",
       "      <td>62.000000</td>\n",
       "      <td>1960.000000</td>\n",
       "      <td>9.693980e-01</td>\n",
       "      <td>2.370705e+00</td>\n",
       "      <td>-1.375868e+08</td>\n",
       "    </tr>\n",
       "    <tr>\n",
       "      <th>25%</th>\n",
       "      <td>0.449147</td>\n",
       "      <td>95.000000</td>\n",
       "      <td>1995.250000</td>\n",
       "      <td>1.253202e+07</td>\n",
       "      <td>1.701959e+07</td>\n",
       "      <td>-2.350754e+06</td>\n",
       "    </tr>\n",
       "    <tr>\n",
       "      <th>50%</th>\n",
       "      <td>0.774555</td>\n",
       "      <td>105.000000</td>\n",
       "      <td>2004.000000</td>\n",
       "      <td>2.804050e+07</td>\n",
       "      <td>5.633007e+07</td>\n",
       "      <td>2.357174e+07</td>\n",
       "    </tr>\n",
       "    <tr>\n",
       "      <th>75%</th>\n",
       "      <td>1.285252</td>\n",
       "      <td>117.000000</td>\n",
       "      <td>2010.000000</td>\n",
       "      <td>5.541697e+07</td>\n",
       "      <td>1.421590e+08</td>\n",
       "      <td>9.192575e+07</td>\n",
       "    </tr>\n",
       "    <tr>\n",
       "      <th>max</th>\n",
       "      <td>5.573184</td>\n",
       "      <td>168.000000</td>\n",
       "      <td>2015.000000</td>\n",
       "      <td>1.778701e+08</td>\n",
       "      <td>7.839013e+08</td>\n",
       "      <td>7.568899e+08</td>\n",
       "    </tr>\n",
       "  </tbody>\n",
       "</table>\n",
       "</div>"
      ],
      "text/plain": [
       "        popularity      runtime  release_year    budget_adj   revenue_adj  \\\n",
       "count  3638.000000  3638.000000   3638.000000  3.638000e+03  3.638000e+03   \n",
       "mean      1.013486   107.334250   2001.309511  3.945078e+07  1.080945e+08   \n",
       "std       0.841891    16.464738     11.030209  3.663366e+07  1.384549e+08   \n",
       "min       0.001117    62.000000   1960.000000  9.693980e-01  2.370705e+00   \n",
       "25%       0.449147    95.000000   1995.250000  1.253202e+07  1.701959e+07   \n",
       "50%       0.774555   105.000000   2004.000000  2.804050e+07  5.633007e+07   \n",
       "75%       1.285252   117.000000   2010.000000  5.541697e+07  1.421590e+08   \n",
       "max       5.573184   168.000000   2015.000000  1.778701e+08  7.839013e+08   \n",
       "\n",
       "             profit  \n",
       "count  3.638000e+03  \n",
       "mean   6.864370e+07  \n",
       "std    1.214216e+08  \n",
       "min   -1.375868e+08  \n",
       "25%   -2.350754e+06  \n",
       "50%    2.357174e+07  \n",
       "75%    9.192575e+07  \n",
       "max    7.568899e+08  "
      ]
     },
     "execution_count": 27,
     "metadata": {},
     "output_type": "execute_result"
    }
   ],
   "source": [
    "#Viewing the final prodcut of our preprocessing\n",
    "df_new.describe()"
   ]
  },
  {
   "cell_type": "code",
   "execution_count": 28,
   "metadata": {},
   "outputs": [
    {
     "data": {
      "text/html": [
       "<div>\n",
       "<style scoped>\n",
       "    .dataframe tbody tr th:only-of-type {\n",
       "        vertical-align: middle;\n",
       "    }\n",
       "\n",
       "    .dataframe tbody tr th {\n",
       "        vertical-align: top;\n",
       "    }\n",
       "\n",
       "    .dataframe thead th {\n",
       "        text-align: right;\n",
       "    }\n",
       "</style>\n",
       "<table border=\"1\" class=\"dataframe\">\n",
       "  <thead>\n",
       "    <tr style=\"text-align: right;\">\n",
       "      <th></th>\n",
       "      <th>popularity</th>\n",
       "      <th>original_title</th>\n",
       "      <th>runtime</th>\n",
       "      <th>genres</th>\n",
       "      <th>release_date</th>\n",
       "      <th>release_year</th>\n",
       "      <th>budget_adj</th>\n",
       "      <th>revenue_adj</th>\n",
       "      <th>profit</th>\n",
       "      <th>popularity_disc</th>\n",
       "    </tr>\n",
       "  </thead>\n",
       "  <tbody>\n",
       "    <tr>\n",
       "      <th>8726</th>\n",
       "      <td>0.627609</td>\n",
       "      <td>Thirteen Days</td>\n",
       "      <td>145.0</td>\n",
       "      <td>Drama|Thriller</td>\n",
       "      <td>2000-12-24</td>\n",
       "      <td>2000</td>\n",
       "      <td>1.013034e+08</td>\n",
       "      <td>4.377160e+07</td>\n",
       "      <td>-5.753177e+07</td>\n",
       "      <td>Below Average</td>\n",
       "    </tr>\n",
       "    <tr>\n",
       "      <th>5098</th>\n",
       "      <td>0.366218</td>\n",
       "      <td>Swimming Pool</td>\n",
       "      <td>102.0</td>\n",
       "      <td>Thriller|Crime</td>\n",
       "      <td>2003-05-18</td>\n",
       "      <td>2003</td>\n",
       "      <td>9.245751e+06</td>\n",
       "      <td>2.660088e+07</td>\n",
       "      <td>1.735513e+07</td>\n",
       "      <td>Poor</td>\n",
       "    </tr>\n",
       "    <tr>\n",
       "      <th>8396</th>\n",
       "      <td>0.473893</td>\n",
       "      <td>Porky's</td>\n",
       "      <td>94.0</td>\n",
       "      <td>Comedy</td>\n",
       "      <td>1981-11-13</td>\n",
       "      <td>1981</td>\n",
       "      <td>9.592763e+06</td>\n",
       "      <td>3.015204e+08</td>\n",
       "      <td>2.919276e+08</td>\n",
       "      <td>Below Average</td>\n",
       "    </tr>\n",
       "    <tr>\n",
       "      <th>10095</th>\n",
       "      <td>0.257865</td>\n",
       "      <td>Mermaids</td>\n",
       "      <td>110.0</td>\n",
       "      <td>Comedy|Drama|Romance</td>\n",
       "      <td>1990-12-14</td>\n",
       "      <td>1990</td>\n",
       "      <td>5.173585e+07</td>\n",
       "      <td>5.911138e+07</td>\n",
       "      <td>7.375525e+06</td>\n",
       "      <td>Poor</td>\n",
       "    </tr>\n",
       "    <tr>\n",
       "      <th>4123</th>\n",
       "      <td>0.214587</td>\n",
       "      <td>Possession</td>\n",
       "      <td>102.0</td>\n",
       "      <td>Drama|Mystery</td>\n",
       "      <td>2002-10-02</td>\n",
       "      <td>2002</td>\n",
       "      <td>3.030653e+07</td>\n",
       "      <td>1.226049e+07</td>\n",
       "      <td>-1.804605e+07</td>\n",
       "      <td>Poor</td>\n",
       "    </tr>\n",
       "  </tbody>\n",
       "</table>\n",
       "</div>"
      ],
      "text/plain": [
       "       popularity original_title  runtime                genres release_date  \\\n",
       "8726     0.627609  Thirteen Days    145.0        Drama|Thriller   2000-12-24   \n",
       "5098     0.366218  Swimming Pool    102.0        Thriller|Crime   2003-05-18   \n",
       "8396     0.473893        Porky's     94.0                Comedy   1981-11-13   \n",
       "10095    0.257865       Mermaids    110.0  Comedy|Drama|Romance   1990-12-14   \n",
       "4123     0.214587     Possession    102.0         Drama|Mystery   2002-10-02   \n",
       "\n",
       "       release_year    budget_adj   revenue_adj        profit popularity_disc  \n",
       "8726           2000  1.013034e+08  4.377160e+07 -5.753177e+07   Below Average  \n",
       "5098           2003  9.245751e+06  2.660088e+07  1.735513e+07            Poor  \n",
       "8396           1981  9.592763e+06  3.015204e+08  2.919276e+08   Below Average  \n",
       "10095          1990  5.173585e+07  5.911138e+07  7.375525e+06            Poor  \n",
       "4123           2002  3.030653e+07  1.226049e+07 -1.804605e+07            Poor  "
      ]
     },
     "execution_count": 28,
     "metadata": {},
     "output_type": "execute_result"
    }
   ],
   "source": [
    "df_new.sample(5)"
   ]
  },
  {
   "cell_type": "markdown",
   "metadata": {},
   "source": [
    "# Exploration Part and Research"
   ]
  },
  {
   "cell_type": "markdown",
   "metadata": {},
   "source": [
    "## The questions we are asking in this section are:\n",
    "- What is the relation between runtime and popularity?\n",
    "- How does the budjet affect the popularity of a movie ? \n",
    "- Do more popular movies tend to make more profit ?\n",
    "- How much do movies typically earn ?\n",
    "- What is the trend surrounding movie earnings?"
   ]
  },
  {
   "cell_type": "markdown",
   "metadata": {},
   "source": [
    "## Q. What is the relation between runtime and popularity"
   ]
  },
  {
   "cell_type": "code",
   "execution_count": 29,
   "metadata": {},
   "outputs": [],
   "source": [
    "#Function has been added to avoid repetition in the code below and enhance readability of the code in general.\n",
    "def scatter(x,y,title,xlab,ylab):\n",
    "    plt.scatter(df_new[x],df_new[y])\n",
    "    plt.title(title)\n",
    "    plt.xlabel(xlab)\n",
    "    plt.ylabel(ylab)"
   ]
  },
  {
   "cell_type": "code",
   "execution_count": 30,
   "metadata": {},
   "outputs": [
    {
     "data": {
      "image/png": "[encoded data removed]",
      "text/plain": [
       "<Figure size 432x288 with 1 Axes>"
      ]
     },
     "metadata": {
      "needs_background": "light"
     },
     "output_type": "display_data"
    }
   ],
   "source": [
    "scatter('popularity', 'runtime', 'Popularity vs Runtime', 'popularity', 'runtime')"
   ]
  },
  {
   "cell_type": "code",
   "execution_count": 31,
   "metadata": {},
   "outputs": [
    {
     "data": {
      "text/html": [
       "<div>\n",
       "<style scoped>\n",
       "    .dataframe tbody tr th:only-of-type {\n",
       "        vertical-align: middle;\n",
       "    }\n",
       "\n",
       "    .dataframe tbody tr th {\n",
       "        vertical-align: top;\n",
       "    }\n",
       "\n",
       "    .dataframe thead th {\n",
       "        text-align: right;\n",
       "    }\n",
       "</style>\n",
       "<table border=\"1\" class=\"dataframe\">\n",
       "  <thead>\n",
       "    <tr style=\"text-align: right;\">\n",
       "      <th></th>\n",
       "      <th>count</th>\n",
       "      <th>min</th>\n",
       "      <th>max</th>\n",
       "      <th>mean</th>\n",
       "    </tr>\n",
       "    <tr>\n",
       "      <th>popularity_disc</th>\n",
       "      <th></th>\n",
       "      <th></th>\n",
       "      <th></th>\n",
       "      <th></th>\n",
       "    </tr>\n",
       "  </thead>\n",
       "  <tbody>\n",
       "    <tr>\n",
       "      <th>Poor</th>\n",
       "      <td>914</td>\n",
       "      <td>62.0</td>\n",
       "      <td>168.0</td>\n",
       "      <td>104.580963</td>\n",
       "    </tr>\n",
       "    <tr>\n",
       "      <th>Below Average</th>\n",
       "      <td>906</td>\n",
       "      <td>72.0</td>\n",
       "      <td>162.0</td>\n",
       "      <td>106.458057</td>\n",
       "    </tr>\n",
       "    <tr>\n",
       "      <th>Average</th>\n",
       "      <td>907</td>\n",
       "      <td>66.0</td>\n",
       "      <td>167.0</td>\n",
       "      <td>107.224917</td>\n",
       "    </tr>\n",
       "    <tr>\n",
       "      <th>Popular</th>\n",
       "      <td>910</td>\n",
       "      <td>63.0</td>\n",
       "      <td>167.0</td>\n",
       "      <td>111.105495</td>\n",
       "    </tr>\n",
       "  </tbody>\n",
       "</table>\n",
       "</div>"
      ],
      "text/plain": [
       "                 count   min    max        mean\n",
       "popularity_disc                                \n",
       "Poor               914  62.0  168.0  104.580963\n",
       "Below Average      906  72.0  162.0  106.458057\n",
       "Average            907  66.0  167.0  107.224917\n",
       "Popular            910  63.0  167.0  111.105495"
      ]
     },
     "execution_count": 31,
     "metadata": {},
     "output_type": "execute_result"
    }
   ],
   "source": [
    "df_new.groupby('popularity_disc').runtime.agg(['count','min','max','mean'])"
   ]
  },
  {
   "cell_type": "code",
   "execution_count": 32,
   "metadata": {},
   "outputs": [
    {
     "data": {
      "text/plain": [
       "array([[1.        , 0.16668123],\n",
       "       [0.16668123, 1.        ]])"
      ]
     },
     "execution_count": 32,
     "metadata": {},
     "output_type": "execute_result"
    }
   ],
   "source": [
    "np.corrcoef(df_new['popularity'],df_new['runtime'])"
   ]
  },
  {
   "cell_type": "markdown",
   "metadata": {},
   "source": [
    " >  The above analysis indicates very weak positive correlation between runtime and popularity. There are a lot of data points from 80 minutes to 135 minutes, and 0 to 2 in popularity,  "
   ]
  },
  {
   "cell_type": "code",
   "execution_count": 33,
   "metadata": {},
   "outputs": [
    {
     "data": {
      "text/plain": [
       "array([[<matplotlib.axes._subplots.AxesSubplot object at 0x0000017138B828D0>]],\n",
       "      dtype=object)"
      ]
     },
     "execution_count": 33,
     "metadata": {},
     "output_type": "execute_result"
    },
    {
     "data": {
      "image/png": "[encoded data removed]",
      "text/plain": [
       "<Figure size 432x288 with 1 Axes>"
      ]
     },
     "metadata": {
      "needs_background": "light"
     },
     "output_type": "display_data"
    }
   ],
   "source": [
    "df_new.hist(column='runtime',grid=False,bins=20)"
   ]
  },
  {
   "cell_type": "markdown",
   "metadata": {},
   "source": [
    "## Q. How does the budjet affect the popularity of a movie ? "
   ]
  },
  {
   "cell_type": "code",
   "execution_count": 34,
   "metadata": {},
   "outputs": [
    {
     "data": {
      "image/png": "[encoded data removed]",
      "text/plain": [
       "<Figure size 432x288 with 1 Axes>"
      ]
     },
     "metadata": {
      "needs_background": "light"
     },
     "output_type": "display_data"
    }
   ],
   "source": [
    "scatter('popularity', 'budget_adj', 'Popularity vs Budget', 'popularity', 'budget_adj')"
   ]
  },
  {
   "cell_type": "code",
   "execution_count": 35,
   "metadata": {},
   "outputs": [
    {
     "data": {
      "text/plain": [
       "array([[1.        , 0.38361125],\n",
       "       [0.38361125, 1.        ]])"
      ]
     },
     "execution_count": 35,
     "metadata": {},
     "output_type": "execute_result"
    }
   ],
   "source": [
    "np.corrcoef(df_new['popularity'],df_new['budget_adj'])"
   ]
  },
  {
   "cell_type": "markdown",
   "metadata": {},
   "source": [
    ">   In this case, we can observe a partial positive correlation between these attributes. However, most data points are concentrated between 0 and 2 in popularity and 0 to 0.50 in budget. "
   ]
  },
  {
   "cell_type": "markdown",
   "metadata": {},
   "source": [
    "## Q. Do more popular movies tend to make more profit ?"
   ]
  },
  {
   "cell_type": "code",
   "execution_count": 36,
   "metadata": {},
   "outputs": [
    {
     "data": {
      "image/png": "[encoded data removed]",
      "text/plain": [
       "<Figure size 432x288 with 1 Axes>"
      ]
     },
     "metadata": {
      "needs_background": "light"
     },
     "output_type": "display_data"
    }
   ],
   "source": [
    "scatter('profit', 'popularity', 'Profit vs Popularity', 'profit', 'popularity')"
   ]
  },
  {
   "cell_type": "code",
   "execution_count": 37,
   "metadata": {},
   "outputs": [
    {
     "data": {
      "text/plain": [
       "array([[1.        , 0.48129546],\n",
       "       [0.48129546, 1.        ]])"
      ]
     },
     "execution_count": 37,
     "metadata": {},
     "output_type": "execute_result"
    }
   ],
   "source": [
    "np.corrcoef(df_new['profit'],df_new['popularity'])"
   ]
  },
  {
   "cell_type": "markdown",
   "metadata": {},
   "source": [
    ">   Again, we can observe a partial positive correlation between these attributes. Though most movies have higher popularity in case of a higher budget, some others do not show the same trend."
   ]
  },
  {
   "cell_type": "markdown",
   "metadata": {},
   "source": [
    "## Q. What is the trend surrounding movie earnings?"
   ]
  },
  {
   "cell_type": "code",
   "execution_count": 36,
   "metadata": {},
   "outputs": [
    {
     "data": {
      "text/plain": [
       "array([[<matplotlib.axes._subplots.AxesSubplot object at 0x0000011F287C6128>]],\n",
       "      dtype=object)"
      ]
     },
     "execution_count": 36,
     "metadata": {},
     "output_type": "execute_result"
    },
    {
     "data": {
      "image/png": "[encoded data removed]",
      "text/plain": [
       "<Figure size 432x288 with 1 Axes>"
      ]
     },
     "metadata": {
      "needs_background": "light"
     },
     "output_type": "display_data"
    }
   ],
   "source": [
    "df_new.hist(column='profit',grid=False,bins=50)"
   ]
  },
  {
   "cell_type": "markdown",
   "metadata": {},
   "source": [
    ">    From above, we can see that most movies earn just above their break-even point, and significanlty less movies suffer losses. Also, the graph is heavily skewed to the right, indicating that movies do not usually have a huge profit margin."
   ]
  },
  {
   "cell_type": "markdown",
   "metadata": {},
   "source": [
    "# Conclusions"
   ]
  },
  {
   "cell_type": "markdown",
   "metadata": {},
   "source": [
    "- Very weak positive correlation between runtime and popularity.\n",
    "- Partial positive correlation between Popularity and Budget attributes.\n",
    "- Partial positive correlation between Budget and Profit.\n",
    "- Most movies earn somewhere around their breakeven point.\n",
    "- Significanlty low amount of movies suffer losses"
   ]
  },
  {
   "cell_type": "markdown",
   "metadata": {},
   "source": [
    "# Limitations\n",
    "\n",
    "- Though the analysis shows certain trends, a movie simply containing the attributes of other similar movies will not guarentee that it does well.\n",
    "- Number of movies which came out recently, heavily outnumber older one's, thus, findings may not be as applicable to older movies.\n",
    "- Hollywood movies receive higher representation in the dataset, trends in other movie industries cannot be sufficiently isolated using this dataset.\n",
    "- We do not know the currency denominations in budget and revenue columns which may lead to erroneous conclusions.\n",
    "- We have not made use of rows with missing values or rows with 0 values, which may have influenced results. "
   ]
  },
  {
   "cell_type": "markdown",
   "metadata": {},
   "source": [
    "## Credit"
   ]
  },
  {
   "cell_type": "markdown",
   "metadata": {},
   "source": [
    "1. How to remove outliers from a Pandas DataFrame in Python - https://www.kite.com/python/answers/how-to-remove-outliers-from-a-pandas-dataframe-in-python"
   ]
  }
 ],
 "metadata": {
  "kernelspec": {
   "display_name": "Python 3",
   "language": "python",
   "name": "python3"
  },
  "language_info": {
   "codemirror_mode": {
    "name": "ipython",
    "version": 3
   },
   "file_extension": ".py",
   "mimetype": "text/x-python",
   "name": "python",
   "nbconvert_exporter": "python",
   "pygments_lexer": "ipython3",
   "version": "3.7.0"
  }
 },
 "nbformat": 4,
 "nbformat_minor": 2
}
